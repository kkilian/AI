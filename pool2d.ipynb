{
  "cells": [
    {
      "cell_type": "code",
      "execution_count": 93,
      "metadata": {
        "id": "H6RAKnO_vaC9"
      },
      "outputs": [],
      "source": [
        "import torch\n",
        "import random\n",
        "from torch import nn\n",
        "import matplotlib.pyplot as plt\n",
        "import warnings\n",
        "warnings.filterwarnings(\"ignore\")\n",
        "import numpy as np\n",
        "import matplotlib.pyplot as plt\n",
        "import torch.nn.functional as F\n"
      ]
    },
    {
      "cell_type": "code",
      "execution_count": 96,
      "metadata": {
        "id": "IJOBiOstvaDA"
      },
      "outputs": [],
      "source": [
        "def fetch(url):\n",
        "  import requests, gzip, os, hashlib, numpy\n",
        "  fp = os.path.join(\"/tmp\", hashlib.md5(url.encode('utf-8')).hexdigest())\n",
        "  if os.path.isfile(fp):\n",
        "    with open(fp, \"rb\") as f:\n",
        "      dat = f.read()\n",
        "  else:\n",
        "    with open(fp, \"wb\") as f:\n",
        "      dat = requests.get(url).content\n",
        "      f.write(dat)\n",
        "  return numpy.frombuffer(gzip.decompress(dat), dtype=np.uint8).copy()\n",
        "X_train = fetch(\"http://yann.lecun.com/exdb/mnist/train-images-idx3-ubyte.gz\")[0x10:].reshape((-1, 28, 28))\n",
        "Y_train = fetch(\"http://yann.lecun.com/exdb/mnist/train-labels-idx1-ubyte.gz\")[8:]\n",
        "X_test = fetch(\"http://yann.lecun.com/exdb/mnist/t10k-images-idx3-ubyte.gz\")[0x10:].reshape((-1, 28, 28))\n",
        "Y_test = fetch(\"http://yann.lecun.com/exdb/mnist/t10k-labels-idx1-ubyte.gz\")[8:]"
      ]
    },
    {
      "cell_type": "code",
      "execution_count": 97,
      "metadata": {
        "id": "_OOeX7QUvaDC"
      },
      "outputs": [],
      "source": [
        "def avgpool2d(X, pool_size):\n",
        "    h,w = pool_size \n",
        "    Y = np.zeros((X.shape[0] - h + 1, X.shape[1] - w + 1))\n",
        "    for i in range(Y.shape[0]):\n",
        "        for j in range(Y.shape[1]):\n",
        "               Y[i, j] = X[i: i + h, j: j + w].mean()\n",
        "        \n",
        "    return Y"
      ]
    },
    {
      "cell_type": "code",
      "execution_count": 98,
      "metadata": {
        "id": "FhJimxQ1vaDD"
      },
      "outputs": [],
      "source": [
        "def maxpool2d(X, pool_size):\n",
        "    h,w = pool_size \n",
        "    Y = np.zeros((X.shape[0] - h + 1, X.shape[1] - w + 1))\n",
        "    for i in range(Y.shape[0]):\n",
        "        for j in range(Y.shape[1]):\n",
        "               Y[i, j] = X[i: i + h, j: j + w].max()\n",
        "        \n",
        "    return Y"
      ]
    },
    {
      "cell_type": "code",
      "source": [
        "X = (X_train[0]).astype(np.float32)\n",
        "\n",
        "torch_pool = torch.nn.MaxPool2d((3,3), stride=1, padding=0)\n",
        "out_torch = torch_pool(torch.tensor(X).reshape(1,28,28))\n",
        "\n",
        "out_np = maxpool2d(X, (3,3))\n",
        "_, axs = plt.subplots(1, 2, figsize=(12, 12))\n",
        "imgs = [ maxpool2d(X,(3,3)), out_torch.reshape(out_np.shape)]\n",
        "for img, ax in zip(imgs, axs):\n",
        "    ax.imshow(img)\n",
        "plt.show()"
      ],
      "metadata": {
        "colab": {
          "base_uri": "https://localhost:8080/",
          "height": 352
        },
        "id": "833pUWo103ut",
        "outputId": "239a4c99-4795-4d2b-c8ec-d7c12cb1da85"
      },
      "execution_count": 99,
      "outputs": [
        {
          "output_type": "display_data",
          "data": {
            "text/plain": [
              "<Figure size 864x864 with 2 Axes>"
            ],
            "image/png": "[encoded data removed]"
          },
          "metadata": {
            "needs_background": "light"
          }
        }
      ]
    },
    {
      "cell_type": "code",
      "execution_count": 89,
      "metadata": {
        "id": "HbwOWqxIvaDG"
      },
      "outputs": [],
      "source": [
        "def maxpool2d_backward(d_out, pool_size):\n",
        "    \n",
        "    out_h, out_w = d_out.shape\n",
        "    dx = np.zeros(d_out.shape)\n",
        "    for i in range(out_h):\n",
        "      for j in range(out_w):\n",
        "        x_pool = d_out[i*1 : i * 1 + out_h, j* 1 : j*1 + out_w]\n",
        "        mask = (x_pool == np.max(x_pool))# keeps track of where the maximum of the matrix is\n",
        "        dx[i*1 : i * 1 + out_h, j* 1 : j*1 + out_w] = mask*d_out[i,j]\n",
        "    return dx\n",
        "        \n"
      ]
    },
    {
      "cell_type": "markdown",
      "source": [
        "torch_pool(X_train[0])"
      ],
      "metadata": {
        "id": "YOsrzM9o_IgF"
      }
    },
    {
      "cell_type": "code",
      "execution_count": 107,
      "metadata": {
        "colab": {
          "base_uri": "https://localhost:8080/"
        },
        "id": "f33y0G6pvaDJ",
        "outputId": "c2b96a36-b1ee-46cc-8be9-f0d1fa3e7223"
      },
      "outputs": [
        {
          "output_type": "execute_result",
          "data": {
            "text/plain": [
              "-0.03352065768453229"
            ]
          },
          "metadata": {},
          "execution_count": 107
        }
      ],
      "source": [
        "out = maxpool2d(X,(3,3))\n",
        "d_out = np.random.randn(26,26)\n",
        "d_x = maxpool2d_backward(d_out, (3,3))\n",
        "d_out.mean()"
      ]
    },
    {
      "cell_type": "code",
      "source": [
        ""
      ],
      "metadata": {
        "id": "rudY_Ex-8lAg"
      },
      "execution_count": null,
      "outputs": []
    }
  ],
  "metadata": {
    "kernelspec": {
      "display_name": "Python 3",
      "language": "python",
      "name": "python3"
    },
    "language_info": {
      "codemirror_mode": {
        "name": "ipython",
        "version": 3
      },
      "file_extension": ".py",
      "mimetype": "text/x-python",
      "name": "python",
      "nbconvert_exporter": "python",
      "pygments_lexer": "ipython3",
      "version": "3.8.5"
    },
    "colab": {
      "name": "pool2d.ipynb",
      "provenance": [],
      "collapsed_sections": []
    }
  },
  "nbformat": 4,
  "nbformat_minor": 0
}