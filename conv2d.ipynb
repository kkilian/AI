{
 "cells": [
  {
   "cell_type": "code",
   "execution_count": 352,
   "metadata": {},
   "outputs": [],
   "source": [
    "import torch\n",
    "import random\n",
    "from torch import nn\n",
    "import matplotlib.pyplot as plt\n",
    "import warnings\n",
    "warnings.filterwarnings(\"ignore\")\n",
    "import numpy as np\n",
    "import matplotlib.pyplot as plt"
   ]
  },
  {
   "cell_type": "code",
   "execution_count": 353,
   "metadata": {},
   "outputs": [],
   "source": [
    "def corr2d(X, K):  \n",
    "    h, w = K.shape\n",
    "    Y = torch.zeros((X.shape[0] - h + 1, X.shape[1] - w + 1))\n",
    "    for i in range(Y.shape[0]):\n",
    "        for j in range(Y.shape[1]):\n",
    "            Y[i, j] = (X[i:i + h, j:j + w] * K).sum()\n",
    "    return Y"
   ]
  },
  {
   "cell_type": "code",
   "execution_count": 354,
   "metadata": {},
   "outputs": [
    {
     "data": {
      "text/plain": [
       "torch.Size([5, 7])"
      ]
     },
     "execution_count": 354,
     "metadata": {},
     "output_type": "execute_result"
    }
   ],
   "source": [
    "x= torch.ones((6, 8))\n",
    "x[:, 2:6] = 0\n",
    "K = torch.tensor([[1.0, -1.0],[1.0, -1.0]])\n",
    "Y = corr2d(x, K)\n",
    "\n",
    "Y.shape"
   ]
  },
  {
   "cell_type": "code",
   "execution_count": 355,
   "metadata": {},
   "outputs": [
    {
     "data": {
      "text/plain": [
       "<matplotlib.image.AxesImage at 0x1b362e32d00>"
      ]
     },
     "execution_count": 355,
     "metadata": {},
     "output_type": "execute_result"
    },
    {
     "data": {
      "image/png": "[encoded data removed]",
      "text/plain": [
       "<Figure size 432x288 with 1 Axes>"
      ]
     },
     "metadata": {
      "needs_background": "light"
     },
     "output_type": "display_data"
    }
   ],
   "source": [
    "plt.imshow(x)"
   ]
  },
  {
   "cell_type": "code",
   "execution_count": 356,
   "metadata": {},
   "outputs": [],
   "source": [
    "# model\n",
    "import torch\n",
    "import torch.nn as nn\n",
    "import torch.nn.functional as F\n",
    "torch.set_printoptions(sci_mode=False)\n",
    "class conv2d(torch.nn.Module):\n",
    "  def __init__(self):\n",
    "    super(conv2d, self).__init__()\n",
    "    self.conv = nn.LazyConv2d(1, kernel_size=(2,2), bias=False)\n",
    "  def forward(self, x):\n",
    "    x = self.conv(x)\n",
    "    \n",
    "    return x"
   ]
  },
  {
   "cell_type": "code",
   "execution_count": 357,
   "metadata": {},
   "outputs": [
    {
     "data": {
      "text/plain": [
       "conv2d(\n",
       "  (conv): LazyConv2d(0, 1, kernel_size=(2, 2), stride=(1, 1), bias=False)\n",
       ")"
      ]
     },
     "execution_count": 357,
     "metadata": {},
     "output_type": "execute_result"
    }
   ],
   "source": [
    "model = conv2d()\n",
    "model"
   ]
  },
  {
   "cell_type": "code",
   "execution_count": 358,
   "metadata": {},
   "outputs": [
    {
     "name": "stdout",
     "output_type": "stream",
     "text": [
      "epoch 10, loss 0.805\n",
      "epoch 20, loss 0.568\n",
      "epoch 30, loss 0.402\n",
      "epoch 40, loss 0.284\n",
      "epoch 50, loss 0.201\n",
      "epoch 60, loss 0.142\n",
      "epoch 70, loss 0.101\n",
      "epoch 80, loss 0.071\n",
      "epoch 90, loss 0.050\n",
      "epoch 100, loss 0.036\n"
     ]
    },
    {
     "data": {
      "image/png": "[encoded data removed]",
      "text/plain": [
       "<Figure size 432x288 with 1 Axes>"
      ]
     },
     "metadata": {
      "needs_background": "light"
     },
     "output_type": "display_data"
    }
   ],
   "source": [
    "lr = 3e-2  # Learning rate\n",
    "losses = []\n",
    "loss_function = torch.nn.MSELoss()\n",
    "optim = torch.optim.SGD(model.parameters(), lr=0.03, momentum=0)\n",
    "\n",
    "for i in range(100):\n",
    "    x = x.reshape((1, 1, 6, 8))\n",
    "    Y = Y.reshape((1, 1, 5, 7))\n",
    "    model.zero_grad()\n",
    "\n",
    "    Y_hat = model(x)\n",
    "    l = loss_function(Y_hat , Y)\n",
    "    l = l.sum()\n",
    "    l.backward()\n",
    "    # Update the kernel\n",
    "\n",
    "    optim.step()\n",
    "\n",
    "    loss = l.item()\n",
    "    losses.append(loss)\n",
    "    plt.plot(losses)\n",
    "    if (i + 1) % 10 == 0:\n",
    "        print(f'epoch {i + 1}, loss {l.mean():.3f}')"
   ]
  },
  {
   "cell_type": "code",
   "execution_count": 359,
   "metadata": {},
   "outputs": [
    {
     "data": {
      "text/plain": [
       "tensor([[ 0.6620, -0.9821],\n",
       "        [ 0.9906, -0.6705]])"
      ]
     },
     "execution_count": 359,
     "metadata": {},
     "output_type": "execute_result"
    }
   ],
   "source": [
    "model.conv.weight.data.reshape((2, 2))"
   ]
  },
  {
   "cell_type": "code",
   "execution_count": 360,
   "metadata": {},
   "outputs": [
    {
     "data": {
      "text/plain": [
       "tensor([[ 0.6620, -0.9821],\n",
       "        [ 0.9906, -0.6705]])"
      ]
     },
     "execution_count": 360,
     "metadata": {},
     "output_type": "execute_result"
    }
   ],
   "source": [
    "\n",
    "model.zero_grad()\n",
    "out = model(torch.tensor(x.reshape((1, 1, 6, 8)).float()))\n",
    "out.retain_grad()\n",
    "loss = loss_function(out, torch.tensor(Y)).mean()\n",
    "loss.retain_grad()\n",
    "loss.backward()\n",
    "model.conv.weight.data.reshape((2, 2))\n"
   ]
  },
  {
   "cell_type": "code",
   "execution_count": 361,
   "metadata": {},
   "outputs": [],
   "source": [
    "def corr2d(X, K):  \n",
    "    h, w = K.shape\n",
    "    Y = np.zeros((X.shape[0] - h + 1, X.shape[1] - w + 1))\n",
    "    for i in range(Y.shape[0]):\n",
    "        for j in range(Y.shape[1]):\n",
    "            Y[i, j] = (X[i:i + h, j:j + w] * K).sum()\n",
    "    return Y"
   ]
  },
  {
   "cell_type": "code",
   "execution_count": 362,
   "metadata": {},
   "outputs": [],
   "source": [
    "def corr2d_full(K,d_loss):\n",
    "    pad = d_loss.shape[0] - 1\n",
    "    K = np.pad(K.T, pad, mode='constant')\n",
    "    h,w = d_loss.shape\n",
    "    Y = np.zeros((4,4))\n",
    "    \n",
    "    for i in range(Y.shape[0]):\n",
    "        for j in range(Y.shape[1]):\n",
    "            Y[i, j] = (K[i:i + h , j:j +w ] * d_loss).sum()\n",
    "    return Y"
   ]
  },
  {
   "cell_type": "code",
   "execution_count": 363,
   "metadata": {},
   "outputs": [],
   "source": [
    "#numpy forward pass \n",
    "w = model.conv.weight.detach().numpy().reshape(2,2)\n",
    "def forward(x):\n",
    "    return corr2d(x, w)"
   ]
  },
  {
   "cell_type": "code",
   "execution_count": 364,
   "metadata": {},
   "outputs": [
    {
     "data": {
      "text/plain": [
       "<matplotlib.image.AxesImage at 0x1b36301b7f0>"
      ]
     },
     "execution_count": 364,
     "metadata": {},
     "output_type": "execute_result"
    },
    {
     "data": {
      "image/png": "[encoded data removed]",
      "text/plain": [
       "<Figure size 432x288 with 1 Axes>"
      ]
     },
     "metadata": {
      "needs_background": "light"
     },
     "output_type": "display_data"
    },
    {
     "data": {
      "image/png": "[encoded data removed]",
      "text/plain": [
       "<Figure size 432x288 with 1 Axes>"
      ]
     },
     "metadata": {
      "needs_background": "light"
     },
     "output_type": "display_data"
    }
   ],
   "source": [
    "x= torch.ones((6, 8))\n",
    "x[:, 2:6] = 0\n",
    "K = torch.tensor([[1.0, -1.0],[1.0, -1.0]])\n",
    "Y = corr2d(x, K)\n",
    "plt.figure()\n",
    "plt.imshow(forward(x))\n",
    "plt.figure()\n",
    "plt.imshow(Y)"
   ]
  },
  {
   "cell_type": "code",
   "execution_count": 365,
   "metadata": {},
   "outputs": [],
   "source": [
    "def forward_backward(x,Y,w):\n",
    "    \n",
    "    #forward\n",
    "    c2d = corr2d(x,w)\n",
    "    xloss = ((c2d - Y) ** 2).mean()\n",
    "    \n",
    "    #backward\n",
    "    d_z = 2*(c2d - Y)\n",
    "    d_w = corr2d(x, d_z)\n",
    "    d_x = corr2d_full( w, d_z)\n",
    "    return d_x, d_w , xloss"
   ]
  },
  {
   "cell_type": "code",
   "execution_count": 366,
   "metadata": {},
   "outputs": [
    {
     "data": {
      "text/plain": [
       "array([[-3.47377777,  3.47501397],\n",
       "       [-3.47377777,  3.47501397]])"
      ]
     },
     "execution_count": 366,
     "metadata": {},
     "output_type": "execute_result"
    }
   ],
   "source": [
    "d_x, d_w, xloss = forward_backward(x,Y,w)\n",
    "d_w"
   ]
  },
  {
   "cell_type": "code",
   "execution_count": 367,
   "metadata": {},
   "outputs": [
    {
     "name": "stdout",
     "output_type": "stream",
     "text": [
      "epoch 10, loss 0.020\n",
      "epoch 20, loss 0.000\n",
      "epoch 30, loss 0.000\n",
      "epoch 40, loss 0.000\n",
      "epoch 50, loss 0.000\n",
      "epoch 60, loss 0.000\n",
      "epoch 70, loss 0.000\n",
      "epoch 80, loss 0.000\n",
      "epoch 90, loss 0.000\n",
      "epoch 100, loss 0.000\n"
     ]
    },
    {
     "data": {
      "text/plain": [
       "[<matplotlib.lines.Line2D at 0x1b362fc9b50>]"
      ]
     },
     "execution_count": 367,
     "metadata": {},
     "output_type": "execute_result"
    },
    {
     "data": {
      "image/png": "[encoded data removed]",
      "text/plain": [
       "<Figure size 432x288 with 1 Axes>"
      ]
     },
     "metadata": {
      "needs_background": "light"
     },
     "output_type": "display_data"
    }
   ],
   "source": [
    "lr = 0.01  # Learning rate\n",
    "losses = []\n",
    "# numpy training\n",
    "def layer_init(m, h):\n",
    "  ret = np.random.uniform(-1., 1., size=(m,h))/np.sqrt(m*h)\n",
    "\n",
    "  return ret.astype(np.float32)\n",
    "w =   layer_init(2,2)\n",
    "for i in range(100):\n",
    "    x = x.reshape(( 6, 8))\n",
    "    Y = Y.reshape(( 5, 7))\n",
    "    d_x, d_w, xloss = forward_backward(x,Y, w)\n",
    "\n",
    "    w = w - lr * d_w\n",
    "    loss = xloss\n",
    "    losses.append(loss)\n",
    "    if (i + 1) % 10 == 0:\n",
    "        print(f'epoch {i + 1}, loss {loss:.3f}')\n",
    "plt.plot(losses)"
   ]
  },
  {
   "cell_type": "code",
   "execution_count": 369,
   "metadata": {},
   "outputs": [
    {
     "name": "stdout",
     "output_type": "stream",
     "text": [
      "[[ 0.70614055 -1.26870543]\n",
      " [ 1.29385945 -0.73129457]]\n"
     ]
    }
   ],
   "source": [
    "print(w)"
   ]
  }
 ],
 "metadata": {
  "kernelspec": {
   "display_name": "Python 3",
   "language": "python",
   "name": "python3"
  },
  "language_info": {
   "codemirror_mode": {
    "name": "ipython",
    "version": 3
   },
   "file_extension": ".py",
   "mimetype": "text/x-python",
   "name": "python",
   "nbconvert_exporter": "python",
   "pygments_lexer": "ipython3",
   "version": "3.8.5"
  }
 },
 "nbformat": 4,
 "nbformat_minor": 4
}
